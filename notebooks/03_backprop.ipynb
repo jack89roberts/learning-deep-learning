{
 "cells": [
  {
   "cell_type": "markdown",
   "id": "217dd62c",
   "metadata": {},
   "source": [
    "# Learning Deep Learning 03: Back Propagation\n",
    "\n",
    "- matrix notation\n",
    "- vanishing gradients\n",
    "- ReLu"
   ]
  },
  {
   "cell_type": "code",
   "execution_count": null,
   "id": "6ecd6208",
   "metadata": {},
   "outputs": [],
   "source": []
  }
 ],
 "metadata": {
  "kernelspec": {
   "display_name": "Python 3 (ipykernel)",
   "language": "python",
   "name": "python3"
  },
  "language_info": {
   "codemirror_mode": {
    "name": "ipython",
    "version": 3
   },
   "file_extension": ".py",
   "mimetype": "text/x-python",
   "name": "python",
   "nbconvert_exporter": "python",
   "pygments_lexer": "ipython3",
   "version": "3.10.6"
  }
 },
 "nbformat": 4,
 "nbformat_minor": 5
}
