{
 "cells": [
  {
   "cell_type": "markdown",
   "id": "cc9f0920",
   "metadata": {},
   "source": [
    "# 08 Regularisation\n",
    "\n",
    "- overfitting\n",
    "- l2, l1\n",
    "- back prop with regularisation\n",
    "- drop-out\n",
    "- early stopping"
   ]
  },
  {
   "cell_type": "code",
   "execution_count": null,
   "id": "24783991",
   "metadata": {},
   "outputs": [],
   "source": []
  }
 ],
 "metadata": {
  "kernelspec": {
   "display_name": "Python 3 (ipykernel)",
   "language": "python",
   "name": "python3"
  },
  "language_info": {
   "codemirror_mode": {
    "name": "ipython",
    "version": 3
   },
   "file_extension": ".py",
   "mimetype": "text/x-python",
   "name": "python",
   "nbconvert_exporter": "python",
   "pygments_lexer": "ipython3",
   "version": "3.10.6"
  }
 },
 "nbformat": 4,
 "nbformat_minor": 5
}
