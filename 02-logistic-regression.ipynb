{
 "cells": [
  {
   "cell_type": "markdown",
   "id": "95df9342",
   "metadata": {},
   "source": [
    "## Logistic Regression\n",
    "\n",
    "- why need different function for classification?\n",
    "- sigmoid"
   ]
  },
  {
   "cell_type": "code",
   "execution_count": null,
   "id": "df6aa4fb",
   "metadata": {},
   "outputs": [],
   "source": []
  },
  {
   "cell_type": "markdown",
   "id": "7c80da78",
   "metadata": {},
   "source": [
    "## Neural Network for Logistic Regression\n",
    "\n",
    "- activation function"
   ]
  },
  {
   "cell_type": "code",
   "execution_count": null,
   "id": "13e74aaf",
   "metadata": {},
   "outputs": [],
   "source": []
  },
  {
   "cell_type": "markdown",
   "id": "d8549ca3",
   "metadata": {},
   "source": [
    "## Pytorch"
   ]
  },
  {
   "cell_type": "code",
   "execution_count": null,
   "id": "80f61e0b",
   "metadata": {},
   "outputs": [],
   "source": []
  },
  {
   "cell_type": "markdown",
   "id": "a2a05306",
   "metadata": {},
   "source": [
    "## Adding nodes and layers\n",
    "\n",
    "- types of functions with multiple nodes, layers (not just logistic regression anymore?)"
   ]
  },
  {
   "cell_type": "markdown",
   "id": "9913d15a",
   "metadata": {},
   "source": []
  },
  {
   "cell_type": "markdown",
   "id": "6af9531b",
   "metadata": {},
   "source": [
    "## ReLU\n",
    "\n",
    "- why? briefly, gradients\n"
   ]
  },
  {
   "cell_type": "code",
   "execution_count": null,
   "id": "852b4312",
   "metadata": {},
   "outputs": [],
   "source": []
  },
  {
   "cell_type": "markdown",
   "id": "228c00a1",
   "metadata": {},
   "source": [
    "## Learning Arbitrary Functions - Intuition\n",
    "\n",
    "- intuition around how this works/allows different non-linear functions to be learned (nodes turning on/off at different values...)"
   ]
  },
  {
   "cell_type": "code",
   "execution_count": null,
   "id": "6855838e",
   "metadata": {},
   "outputs": [],
   "source": []
  },
  {
   "cell_type": "code",
   "execution_count": null,
   "id": "428799cf",
   "metadata": {},
   "outputs": [],
   "source": []
  }
 ],
 "metadata": {
  "kernelspec": {
   "display_name": "Python 3 (ipykernel)",
   "language": "python",
   "name": "python3"
  },
  "language_info": {
   "codemirror_mode": {
    "name": "ipython",
    "version": 3
   },
   "file_extension": ".py",
   "mimetype": "text/x-python",
   "name": "python",
   "nbconvert_exporter": "python",
   "pygments_lexer": "ipython3",
   "version": "3.10.6"
  }
 },
 "nbformat": 4,
 "nbformat_minor": 5
}
