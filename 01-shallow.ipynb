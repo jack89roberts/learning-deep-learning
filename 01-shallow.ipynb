{
 "cells": [
  {
   "cell_type": "markdown",
   "id": "5e40daa7",
   "metadata": {},
   "source": [
    "# Learning Deep Learning 01: Shallow Learning (mostly)\n"
   ]
  },
  {
   "cell_type": "markdown",
   "id": "00e8530b",
   "metadata": {},
   "source": [
    "## Linear Regression\n",
    "\n",
    "- Weights\n",
    "- Loss function"
   ]
  },
  {
   "cell_type": "code",
   "execution_count": null,
   "id": "6244299d",
   "metadata": {},
   "outputs": [],
   "source": []
  },
  {
   "cell_type": "markdown",
   "id": "43358b80",
   "metadata": {},
   "source": [
    "## Gradient Descent\n",
    "\n",
    "- Partial derivatives\n",
    "- Learning rate"
   ]
  },
  {
   "cell_type": "code",
   "execution_count": null,
   "id": "37197d95",
   "metadata": {},
   "outputs": [],
   "source": []
  },
  {
   "cell_type": "markdown",
   "id": "65410b51",
   "metadata": {},
   "source": [
    "## Neural Network for Linear Regression\n",
    "\n",
    "- input, output layer\n",
    "- Dense\n"
   ]
  },
  {
   "cell_type": "code",
   "execution_count": null,
   "id": "b322ca84",
   "metadata": {},
   "outputs": [],
   "source": []
  },
  {
   "cell_type": "markdown",
   "id": "89f906e4",
   "metadata": {},
   "source": [
    "## Pytorch\n",
    "\n",
    "- Epoch\n",
    "- Batch\n",
    "- (activation - skip over)\n",
    "- (optimiser - skip over)"
   ]
  },
  {
   "cell_type": "code",
   "execution_count": null,
   "id": "2e4a7aeb",
   "metadata": {},
   "outputs": [],
   "source": []
  },
  {
   "cell_type": "markdown",
   "id": "bc892308",
   "metadata": {},
   "source": [
    "## Adding nodes and layers\n",
    "\n",
    "- still linear activation, what types of function can a network with these learn (still linear regression):\n",
    "  - 2 nodes, one layer\n",
    "  - 2 layers, each one node\n",
    "- hidden layers\n",
    "- so why all the fuss about neural networks?"
   ]
  },
  {
   "cell_type": "code",
   "execution_count": null,
   "id": "79fc4eaa",
   "metadata": {},
   "outputs": [],
   "source": []
  },
  {
   "cell_type": "markdown",
   "id": "25e623d8",
   "metadata": {},
   "source": [
    "## Logistic Regression\n",
    "\n",
    "- why need different function for classification?\n",
    "- sigmoid"
   ]
  },
  {
   "cell_type": "code",
   "execution_count": null,
   "id": "c38a253d",
   "metadata": {},
   "outputs": [],
   "source": []
  },
  {
   "cell_type": "markdown",
   "id": "ae5993d8",
   "metadata": {},
   "source": [
    "## Neural Network for Logistic Regression\n",
    "\n",
    "- activation function"
   ]
  },
  {
   "cell_type": "code",
   "execution_count": null,
   "id": "f140663a",
   "metadata": {},
   "outputs": [],
   "source": []
  },
  {
   "cell_type": "markdown",
   "id": "090cd91a",
   "metadata": {},
   "source": [
    "## Pytorch"
   ]
  },
  {
   "cell_type": "code",
   "execution_count": null,
   "id": "01a86e40",
   "metadata": {},
   "outputs": [],
   "source": []
  },
  {
   "cell_type": "markdown",
   "id": "cd087614",
   "metadata": {},
   "source": [
    "## Adding nodes and layers\n",
    "\n",
    "- types of functions with multiple nodes, layers (not just logistic regression anymore?)"
   ]
  },
  {
   "cell_type": "markdown",
   "id": "a49c7f7d",
   "metadata": {},
   "source": []
  },
  {
   "cell_type": "markdown",
   "id": "564a68ca",
   "metadata": {},
   "source": [
    "## ReLU\n",
    "\n",
    "- why? briefly, gradients\n"
   ]
  },
  {
   "cell_type": "code",
   "execution_count": null,
   "id": "6fdffbdd",
   "metadata": {},
   "outputs": [],
   "source": []
  },
  {
   "cell_type": "markdown",
   "id": "aa67c3e3",
   "metadata": {},
   "source": [
    "## Learning Arbitrary Functions - Intuition\n",
    "\n",
    "- intuition around how this works/allows different non-linear functions to be learned (nodes turning on/off at different values...)"
   ]
  },
  {
   "cell_type": "code",
   "execution_count": null,
   "id": "a9fef963",
   "metadata": {},
   "outputs": [],
   "source": []
  }
 ],
 "metadata": {
  "kernelspec": {
   "display_name": "Python 3 (ipykernel)",
   "language": "python",
   "name": "python3"
  },
  "language_info": {
   "codemirror_mode": {
    "name": "ipython",
    "version": 3
   },
   "file_extension": ".py",
   "mimetype": "text/x-python",
   "name": "python",
   "nbconvert_exporter": "python",
   "pygments_lexer": "ipython3",
   "version": "3.10.6"
  }
 },
 "nbformat": 4,
 "nbformat_minor": 5
}
